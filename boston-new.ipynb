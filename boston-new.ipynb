{
 "metadata": {
  "name": "",
  "signature": "sha256:4731af6e7ff08cd28e88568fcb66f588b43fa9086aff3b7828cef2d13b49ccbf"
 },
 "nbformat": 3,
 "nbformat_minor": 0,
 "worksheets": [
  {
   "cells": [
    {
     "cell_type": "code",
     "collapsed": false,
     "input": [
      "from sklearn import datasets\n",
      "import pandas as pd\n",
      "from sklearn.preprocessing import StandardScaler\n",
      "from sklearn.cross_validation import train_test_split\n",
      "from sklearn.metrics import mean_squared_error\n",
      "from sklearn.metrics import r2_score\n",
      "from sklearn.linear_model import LinearRegression"
     ],
     "language": "python",
     "metadata": {},
     "outputs": [],
     "prompt_number": 1
    },
    {
     "cell_type": "code",
     "collapsed": false,
     "input": [
      "bean = datasets.load_boston()\n",
      "print bean.DESCR"
     ],
     "language": "python",
     "metadata": {},
     "outputs": [
      {
       "output_type": "stream",
       "stream": "stdout",
       "text": [
        "Boston House Prices dataset\n",
        "\n",
        "Notes\n",
        "------\n",
        "Data Set Characteristics:  \n",
        "\n",
        "    :Number of Instances: 506 \n",
        "\n",
        "    :Number of Attributes: 13 numeric/categorical predictive\n",
        "    \n",
        "    :Median Value (attribute 14) is usually the target\n",
        "\n",
        "    :Attribute Information (in order):\n",
        "        - CRIM     per capita crime rate by town\n",
        "        - ZN       proportion of residential land zoned for lots over 25,000 sq.ft.\n",
        "        - INDUS    proportion of non-retail business acres per town\n",
        "        - CHAS     Charles River dummy variable (= 1 if tract bounds river; 0 otherwise)\n",
        "        - NOX      nitric oxides concentration (parts per 10 million)\n",
        "        - RM       average number of rooms per dwelling\n",
        "        - AGE      proportion of owner-occupied units built prior to 1940\n",
        "        - DIS      weighted distances to five Boston employment centres\n",
        "        - RAD      index of accessibility to radial highways\n",
        "        - TAX      full-value property-tax rate per $10,000\n",
        "        - PTRATIO  pupil-teacher ratio by town\n",
        "        - B        1000(Bk - 0.63)^2 where Bk is the proportion of blacks by town\n",
        "        - LSTAT    % lower status of the population\n",
        "        - MEDV     Median value of owner-occupied homes in $1000's\n",
        "\n",
        "    :Missing Attribute Values: None\n",
        "\n",
        "    :Creator: Harrison, D. and Rubinfeld, D.L.\n",
        "\n",
        "This is a copy of UCI ML housing dataset.\n",
        "http://archive.ics.uci.edu/ml/datasets/Housing\n",
        "\n",
        "\n",
        "This dataset was taken from the StatLib library which is maintained at Carnegie Mellon University.\n",
        "\n",
        "The Boston house-price data of Harrison, D. and Rubinfeld, D.L. 'Hedonic\n",
        "prices and the demand for clean air', J. Environ. Economics & Management,\n",
        "vol.5, 81-102, 1978.   Used in Belsley, Kuh & Welsch, 'Regression diagnostics\n",
        "...', Wiley, 1980.   N.B. Various transformations are used in the table on\n",
        "pages 244-261 of the latter.\n",
        "\n",
        "The Boston house-price data has been used in many machine learning papers that address regression\n",
        "problems.   \n",
        "     \n",
        "**References**\n",
        "\n",
        "   - Belsley, Kuh & Welsch, 'Regression diagnostics: Identifying Influential Data and Sources of Collinearity', Wiley, 1980. 244-261.\n",
        "   - Quinlan,R. (1993). Combining Instance-Based and Model-Based Learning. In Proceedings on the Tenth International Conference of Machine Learning, 236-243, University of Massachusetts, Amherst. Morgan Kaufmann.\n",
        "   - many more! (see http://archive.ics.uci.edu/ml/datasets/Housing)\n",
        "\n"
       ]
      }
     ],
     "prompt_number": 2
    },
    {
     "cell_type": "code",
     "collapsed": false,
     "input": [
      "def load_boston():\n",
      "    scaler = StandardScaler()\n",
      "    boston = datasets.load_boston()\n",
      "    X=boston.data\n",
      "    y=boston.target\n",
      "    X = scaler.fit_transform(X)\n",
      "    return train_test_split(X,y)"
     ],
     "language": "python",
     "metadata": {},
     "outputs": [],
     "prompt_number": 3
    },
    {
     "cell_type": "code",
     "collapsed": false,
     "input": [
      "X_train, X_test, y_train, y_test = load_boston()"
     ],
     "language": "python",
     "metadata": {},
     "outputs": [],
     "prompt_number": 4
    },
    {
     "cell_type": "code",
     "collapsed": false,
     "input": [
      "X_train.shape"
     ],
     "language": "python",
     "metadata": {},
     "outputs": [
      {
       "metadata": {},
       "output_type": "pyout",
       "prompt_number": 5,
       "text": [
        "(379L, 13L)"
       ]
      }
     ],
     "prompt_number": 5
    },
    {
     "cell_type": "code",
     "collapsed": false,
     "input": [
      "clf = LinearRegression()\n",
      "clf.fit(X_train, y_train)"
     ],
     "language": "python",
     "metadata": {},
     "outputs": [
      {
       "metadata": {},
       "output_type": "pyout",
       "prompt_number": 6,
       "text": [
        "LinearRegression(copy_X=True, fit_intercept=True, normalize=False)"
       ]
      }
     ],
     "prompt_number": 6
    },
    {
     "cell_type": "code",
     "collapsed": false,
     "input": [
      "zip (y_test, clf.predict(X_test))"
     ],
     "language": "python",
     "metadata": {},
     "outputs": [
      {
       "metadata": {},
       "output_type": "pyout",
       "prompt_number": 7,
       "text": [
        "[(34.899999999999999, 35.015085601989234),\n",
        " (43.5, 39.476755469061473),\n",
        " (14.6, 19.632341933636006),\n",
        " (21.399999999999999, 24.166338837328226),\n",
        " (35.399999999999999, 34.434063415130183),\n",
        " (19.5, 16.996977974603084),\n",
        " (22.800000000000001, 24.6828934504172),\n",
        " (36.0, 36.525058409285464),\n",
        " (29.100000000000001, 30.71353805624322),\n",
        " (20.100000000000001, 20.025874851501918),\n",
        " (16.399999999999999, 19.068226660286101),\n",
        " (18.399999999999999, 19.179908384368371),\n",
        " (38.700000000000003, 35.586538317165051),\n",
        " (29.899999999999999, 31.466877925809914),\n",
        " (32.899999999999999, 31.276938456491372),\n",
        " (22.0, 27.602175378350349),\n",
        " (13.4, 12.744173092768321),\n",
        " (23.0, 24.314541695978978),\n",
        " (44.799999999999997, 38.336102461406639),\n",
        " (24.100000000000001, 30.071972438780538),\n",
        " (13.1, 20.645609572343425),\n",
        " (30.300000000000001, 33.025633829359784),\n",
        " (24.100000000000001, 25.72148502514959),\n",
        " (11.5, 14.615173356337987),\n",
        " (19.0, 14.252445240781103),\n",
        " (18.899999999999999, 15.687738624165871),\n",
        " (13.9, 12.868942969579981),\n",
        " (15.199999999999999, 15.261690798500961),\n",
        " (29.100000000000001, 31.995713675991254),\n",
        " (22.5, 29.740987469305203),\n",
        " (26.699999999999999, 32.350504997164123),\n",
        " (48.299999999999997, 37.037060359730773),\n",
        " (23.399999999999999, 23.981963148628221),\n",
        " (22.399999999999999, 23.317393906836834),\n",
        " (17.199999999999999, 13.845563463117443),\n",
        " (37.299999999999997, 35.094359448827667),\n",
        " (22.699999999999999, 21.850333187998881),\n",
        " (20.0, 23.109606602699191),\n",
        " (32.0, 34.02049082272697),\n",
        " (16.699999999999999, 20.934370892057505),\n",
        " (50.0, 43.119025368925335),\n",
        " (18.899999999999999, 18.58920080393284),\n",
        " (31.600000000000001, 32.474940183426142),\n",
        " (34.600000000000001, 35.196756271892369),\n",
        " (24.399999999999999, 22.351419795771228),\n",
        " (20.600000000000001, 27.537831285820264),\n",
        " (21.899999999999999, 16.308908614739728),\n",
        " (34.899999999999999, 34.829021603923181),\n",
        " (26.399999999999999, 29.122439847037651),\n",
        " (32.5, 31.081893451248295),\n",
        " (20.0, 15.777925267918974),\n",
        " (19.899999999999999, 19.274197477181538),\n",
        " (14.6, 7.7894379501265814),\n",
        " (24.300000000000001, 24.489325361665227),\n",
        " (21.399999999999999, 22.56286662911409),\n",
        " (19.600000000000001, 21.171937226680516),\n",
        " (10.9, 18.542253198606538),\n",
        " (17.800000000000001, 17.199907972748072),\n",
        " (23.899999999999999, 28.126469225105112),\n",
        " (15.4, 18.168025943425757),\n",
        " (13.800000000000001, 10.774646032150899),\n",
        " (14.300000000000001, 16.884137092376058),\n",
        " (29.600000000000001, 24.394361762690188),\n",
        " (23.0, 23.543380388521875),\n",
        " (13.800000000000001, 5.9497295941326271),\n",
        " (19.5, 20.186605127682448),\n",
        " (19.399999999999999, 16.783323391703259),\n",
        " (27.5, 19.735975668442983),\n",
        " (20.600000000000001, 21.873472622990406),\n",
        " (18.5, 13.10587839396965),\n",
        " (33.399999999999999, 35.761344255485895),\n",
        " (17.399999999999999, 15.900978637078222),\n",
        " (21.699999999999999, 21.301690503351338),\n",
        " (50.0, 41.301688611659742),\n",
        " (14.5, 17.801225823376065),\n",
        " (32.700000000000003, 30.268645081308108),\n",
        " (19.399999999999999, 23.433021388284804),\n",
        " (22.600000000000001, 26.651442854516219),\n",
        " (20.800000000000001, 19.09978771345132),\n",
        " (36.5, 35.864845115575555),\n",
        " (16.199999999999999, 15.294377555137366),\n",
        " (7.0, -5.5747959424517788),\n",
        " (22.300000000000001, 27.685956422737217),\n",
        " (28.600000000000001, 28.541325944982248),\n",
        " (37.200000000000003, 32.806651778790041),\n",
        " (21.699999999999999, 20.606376036882445),\n",
        " (23.899999999999999, 27.189041022661023),\n",
        " (14.0, 13.178844989329802),\n",
        " (26.600000000000001, 21.92849604807386),\n",
        " (16.300000000000001, 11.927544894843205),\n",
        " (10.199999999999999, 16.921953134332686),\n",
        " (13.6, 11.973673211102994),\n",
        " (19.399999999999999, 26.243516380140917),\n",
        " (22.800000000000001, 28.870926986360608),\n",
        " (8.4000000000000004, 13.816623985254093),\n",
        " (13.5, 12.85101028862289),\n",
        " (33.200000000000003, 34.973797553827652),\n",
        " (22.899999999999999, 20.394443014997588),\n",
        " (22.5, 21.833187337642268),\n",
        " (18.699999999999999, 20.6802338265834),\n",
        " (22.199999999999999, 24.133058421460895),\n",
        " (16.5, 10.667628428832048),\n",
        " (7.4000000000000004, 5.2751457185424293),\n",
        " (13.300000000000001, 20.328201179075943),\n",
        " (50.0, 32.970388758525864),\n",
        " (23.899999999999999, 24.5190774498999),\n",
        " (18.199999999999999, 14.568691456945162),\n",
        " (9.5, 12.47668360568224),\n",
        " (11.300000000000001, 13.647072842218657),\n",
        " (13.5, 12.555000673272932),\n",
        " (30.100000000000001, 25.660684352787793),\n",
        " (29.0, 32.345095419732161),\n",
        " (12.1, 18.415475649912217),\n",
        " (23.800000000000001, 26.658834229475914),\n",
        " (13.199999999999999, 7.4872386012264212),\n",
        " (21.199999999999999, 22.707952492006054),\n",
        " (25.0, 22.315189634327421),\n",
        " (23.699999999999999, 28.02504656358844),\n",
        " (12.6, 18.401071173513159),\n",
        " (34.700000000000003, 30.456917101576941),\n",
        " (15.0, 15.09692096024915),\n",
        " (23.699999999999999, 9.9924998978390001),\n",
        " (21.5, 20.64302007298943),\n",
        " (13.4, 16.069982363405355),\n",
        " (37.600000000000001, 37.670831082129865),\n",
        " (18.899999999999999, 23.850634574310938),\n",
        " (25.0, 24.469814456950793)]"
       ]
      }
     ],
     "prompt_number": 7
    },
    {
     "cell_type": "code",
     "collapsed": false,
     "input": [
      "from sklearn import svm, cross_validation, datasets\n",
      " boston = datasets.load_boston()\n",
      " X, y = boston.data, boston.target\n",
      "model = svm.SVC()\n",
      "cross_validation.cross_val_score(model, X, y, scoring='wrong_choice')\n",
      "Traceback (most recent call last):\n",
      "ValueError: 'wrong_choice' is not a valid scoring value. Valid options are ['accuracy', 'adjusted_rand_score', 'average_precision', 'f1', 'log_loss', 'mean_absolute_error', 'mean_squared_error', 'precision', 'r2', 'recall', 'roc_auc']"
     ],
     "language": "python",
     "metadata": {},
     "outputs": [
      {
       "ename": "IndentationError",
       "evalue": "unexpected indent (<ipython-input-8-cfd24e383e4b>, line 2)",
       "output_type": "pyerr",
       "traceback": [
        "\u001b[1;36m  File \u001b[1;32m\"<ipython-input-8-cfd24e383e4b>\"\u001b[1;36m, line \u001b[1;32m2\u001b[0m\n\u001b[1;33m    boston = datasets.load_boston()\u001b[0m\n\u001b[1;37m    ^\u001b[0m\n\u001b[1;31mIndentationError\u001b[0m\u001b[1;31m:\u001b[0m unexpected indent\n"
       ]
      }
     ],
     "prompt_number": 8
    },
    {
     "cell_type": "code",
     "collapsed": false,
     "input": [
      "from sklearn import datasets\n",
      "import pandas as pd\n",
      "%pylab inline\n",
      "from sklearn.preprocessing import StandardScaler\n",
      "from sklearn.cross_validation import train_test_split\n",
      "from sklearn.metrics import mean_squared_error\n",
      "from sklearn.metrics import r2_score\n",
      "from sklearn.linear_model import LinearRegression\n",
      "from sklearn.linear_model import Lasso\n",
      "import numpy as np\n",
      "from matplotlib import pyplot as plt\n",
      "from IPython.display import display\n",
      "from sklearn.neighbors import KNeighborsRegressor\n"
     ],
     "language": "python",
     "metadata": {},
     "outputs": [
      {
       "output_type": "stream",
       "stream": "stdout",
       "text": [
        "Populating the interactive namespace from numpy and matplotlib\n"
       ]
      },
      {
       "output_type": "stream",
       "stream": "stderr",
       "text": [
        "WARNING: pylab import has clobbered these variables: ['clf']\n",
        "`%matplotlib` prevents importing * from pylab and numpy\n"
       ]
      }
     ],
     "prompt_number": 9
    },
    {
     "cell_type": "code",
     "collapsed": false,
     "input": [
      "from sklearn.datasets import load_boston\n",
      "boston = datasets.load_boston()\n",
      "print boston.DESCR"
     ],
     "language": "python",
     "metadata": {},
     "outputs": [
      {
       "output_type": "stream",
       "stream": "stdout",
       "text": [
        "Boston House Prices dataset\n",
        "\n",
        "Notes\n",
        "------\n",
        "Data Set Characteristics:  \n",
        "\n",
        "    :Number of Instances: 506 \n",
        "\n",
        "    :Number of Attributes: 13 numeric/categorical predictive\n",
        "    \n",
        "    :Median Value (attribute 14) is usually the target\n",
        "\n",
        "    :Attribute Information (in order):\n",
        "        - CRIM     per capita crime rate by town\n",
        "        - ZN       proportion of residential land zoned for lots over 25,000 sq.ft.\n",
        "        - INDUS    proportion of non-retail business acres per town\n",
        "        - CHAS     Charles River dummy variable (= 1 if tract bounds river; 0 otherwise)\n",
        "        - NOX      nitric oxides concentration (parts per 10 million)\n",
        "        - RM       average number of rooms per dwelling\n",
        "        - AGE      proportion of owner-occupied units built prior to 1940\n",
        "        - DIS      weighted distances to five Boston employment centres\n",
        "        - RAD      index of accessibility to radial highways\n",
        "        - TAX      full-value property-tax rate per $10,000\n",
        "        - PTRATIO  pupil-teacher ratio by town\n",
        "        - B        1000(Bk - 0.63)^2 where Bk is the proportion of blacks by town\n",
        "        - LSTAT    % lower status of the population\n",
        "        - MEDV     Median value of owner-occupied homes in $1000's\n",
        "\n",
        "    :Missing Attribute Values: None\n",
        "\n",
        "    :Creator: Harrison, D. and Rubinfeld, D.L.\n",
        "\n",
        "This is a copy of UCI ML housing dataset.\n",
        "http://archive.ics.uci.edu/ml/datasets/Housing\n",
        "\n",
        "\n",
        "This dataset was taken from the StatLib library which is maintained at Carnegie Mellon University.\n",
        "\n",
        "The Boston house-price data of Harrison, D. and Rubinfeld, D.L. 'Hedonic\n",
        "prices and the demand for clean air', J. Environ. Economics & Management,\n",
        "vol.5, 81-102, 1978.   Used in Belsley, Kuh & Welsch, 'Regression diagnostics\n",
        "...', Wiley, 1980.   N.B. Various transformations are used in the table on\n",
        "pages 244-261 of the latter.\n",
        "\n",
        "The Boston house-price data has been used in many machine learning papers that address regression\n",
        "problems.   \n",
        "     \n",
        "**References**\n",
        "\n",
        "   - Belsley, Kuh & Welsch, 'Regression diagnostics: Identifying Influential Data and Sources of Collinearity', Wiley, 1980. 244-261.\n",
        "   - Quinlan,R. (1993). Combining Instance-Based and Model-Based Learning. In Proceedings on the Tenth International Conference of Machine Learning, 236-243, University of Massachusetts, Amherst. Morgan Kaufmann.\n",
        "   - many more! (see http://archive.ics.uci.edu/ml/datasets/Housing)\n",
        "\n"
       ]
      }
     ],
     "prompt_number": 10
    },
    {
     "cell_type": "code",
     "collapsed": false,
     "input": [
      "train_data, test_data, train_target, test_target = \\\n",
      "train_test_split(boston.data, boston.target, train_size=.8)\n",
      "train_data.shape"
     ],
     "language": "python",
     "metadata": {},
     "outputs": [
      {
       "metadata": {},
       "output_type": "pyout",
       "prompt_number": 11,
       "text": [
        "(404L, 13L)"
       ]
      }
     ],
     "prompt_number": 11
    },
    {
     "cell_type": "code",
     "collapsed": false,
     "input": [
      "from sklearn import datasets\n",
      "boston = datasets.load_boston()\n",
      "X = boston.data\n",
      "y = boston.target\n",
      "\n",
      "print X.shape\n",
      "print y.shape"
     ],
     "language": "python",
     "metadata": {},
     "outputs": [
      {
       "output_type": "stream",
       "stream": "stdout",
       "text": [
        "(506L, 13L)\n",
        "(506L,)\n"
       ]
      }
     ],
     "prompt_number": 12
    },
    {
     "cell_type": "code",
     "collapsed": false,
     "input": [
      "plt.hist(y, alpha=1.0)\n",
      "plt.show()"
     ],
     "language": "python",
     "metadata": {},
     "outputs": [
      {
       "metadata": {},
       "output_type": "display_data",
       "png": "[encoded data removed]",
       "text": [
        "<matplotlib.figure.Figure at 0x149d8128>"
       ]
      }
     ],
     "prompt_number": 13
    },
    {
     "cell_type": "code",
     "collapsed": false,
     "input": [
      "def load_boston():\n",
      "    scaler = StandardScaler()\n",
      "    boston = datasets.load_boston()\n",
      "    X=boston.data\n",
      "    y=boston.target\n",
      "    X = scaler.fit_transform(X)\n",
      "    return train_test_split(X,y)\n",
      "X_train, X_test, y_train, y_test = load_boston()\n",
      "X_train.shape\n",
      "clf = LinearRegression()\n",
      "clf.fit(X_train, y_train)\n",
      "zip (y_test, clf.predict(X_test))\n"
     ],
     "language": "python",
     "metadata": {},
     "outputs": [
      {
       "metadata": {},
       "output_type": "pyout",
       "prompt_number": 14,
       "text": [
        "[(20.5, 21.035228814782442),\n",
        " (23.699999999999999, 28.632889648228677),\n",
        " (17.100000000000001, 19.125192147937977),\n",
        " (12.5, 18.971569534633833),\n",
        " (25.199999999999999, 27.524667699352435),\n",
        " (50.0, 32.594013146549145),\n",
        " (12.699999999999999, 18.383717907837656),\n",
        " (19.5, 20.416261988583557),\n",
        " (18.800000000000001, 21.113643882479721),\n",
        " (10.4, 16.793505554340427),\n",
        " (16.800000000000001, 20.244987829587192),\n",
        " (50.0, 34.386243541303841),\n",
        " (20.0, 22.778788350130334),\n",
        " (13.300000000000001, 19.702952058576447),\n",
        " (14.9, 14.760575402169412),\n",
        " (22.800000000000001, 28.549784952656513),\n",
        " (13.1, 14.301651109782634),\n",
        " (19.100000000000001, 19.775531954186288),\n",
        " (19.600000000000001, 17.685176852363156),\n",
        " (13.6, 13.414251995631746),\n",
        " (18.899999999999999, 18.96754570602193),\n",
        " (12.699999999999999, 11.309762207965422),\n",
        " (22.0, 21.408706668846737),\n",
        " (23.699999999999999, 10.828195910162103),\n",
        " (15.199999999999999, 18.970528683590249),\n",
        " (13.800000000000001, 20.316666496096467),\n",
        " (15.300000000000001, 20.733870707710732),\n",
        " (21.699999999999999, 22.229173882254262),\n",
        " (21.5, 24.798535087769281),\n",
        " (14.1, 18.128980973828817),\n",
        " (34.899999999999999, 34.181134459030517),\n",
        " (37.0, 30.638709918775277),\n",
        " (16.800000000000001, 20.275112250583177),\n",
        " (5.0, 10.537906908626546),\n",
        " (23.899999999999999, 27.915110840381743),\n",
        " (20.800000000000001, 23.312441952162544),\n",
        " (38.700000000000003, 34.464449479381457),\n",
        " (23.199999999999999, 27.801470675672643),\n",
        " (20.0, 20.53849475115225),\n",
        " (28.199999999999999, 32.699105639238837),\n",
        " (36.0, 35.832382829051369),\n",
        " (50.0, 40.564350789956116),\n",
        " (26.399999999999999, 22.893861257144611),\n",
        " (23.899999999999999, 26.046117493686811),\n",
        " (11.699999999999999, 14.938196809436301),\n",
        " (22.699999999999999, 25.136318629371257),\n",
        " (14.5, 18.067102808950054),\n",
        " (12.6, 18.184983294764685),\n",
        " (22.5, 22.062556529544501),\n",
        " (39.799999999999997, 33.610551439068423),\n",
        " (13.5, 12.924658333350978),\n",
        " (21.699999999999999, 20.303094073168698),\n",
        " (19.0, 21.408697892394255),\n",
        " (23.800000000000001, 25.260309035179191),\n",
        " (18.399999999999999, 18.65923482720806),\n",
        " (50.0, 34.812960169625036),\n",
        " (29.399999999999999, 30.384435241135272),\n",
        " (12.300000000000001, 13.233090252643031),\n",
        " (27.899999999999999, 20.71373410657494),\n",
        " (21.100000000000001, 20.83509172425725),\n",
        " (22.600000000000001, 19.282173145719046),\n",
        " (22.199999999999999, 22.275197886316764),\n",
        " (33.399999999999999, 28.232751283954933),\n",
        " (28.399999999999999, 28.183302673749488),\n",
        " (27.0, 32.795924221829466),\n",
        " (20.899999999999999, 22.811005270655595),\n",
        " (19.0, 14.272816875214582),\n",
        " (20.800000000000001, 19.147692741569543),\n",
        " (7.2000000000000002, 17.805564191376426),\n",
        " (11.800000000000001, 8.9625011982948113),\n",
        " (20.699999999999999, 25.880321424653051),\n",
        " (16.300000000000001, 13.134853266529797),\n",
        " (21.100000000000001, 22.685416620230956),\n",
        " (20.0, 18.653392335019259),\n",
        " (23.5, 31.28089005166126),\n",
        " (16.199999999999999, 15.365122057850154),\n",
        " (29.800000000000001, 25.105895137370588),\n",
        " (27.899999999999999, 32.699098662132918),\n",
        " (13.1, 16.005017962206395),\n",
        " (28.0, 28.424030497171408),\n",
        " (48.299999999999997, 35.892407753181729),\n",
        " (25.0, 29.734927063488492),\n",
        " (8.4000000000000004, 4.4281728806444249),\n",
        " (19.699999999999999, 13.967975590691896),\n",
        " (14.4, 4.006038694252112),\n",
        " (10.199999999999999, 16.638770889307807),\n",
        " (28.399999999999999, 30.851278269391109),\n",
        " (22.800000000000001, 24.821613187968318),\n",
        " (23.399999999999999, 24.094391957752428),\n",
        " (30.100000000000001, 26.628215225860721),\n",
        " (24.699999999999999, 24.668500142927133),\n",
        " (17.100000000000001, 20.520615435690793),\n",
        " (24.399999999999999, 28.629270995860484),\n",
        " (15.6, 12.154008020025557),\n",
        " (14.0, 13.126327779201048),\n",
        " (35.399999999999999, 34.191637954443941),\n",
        " (25.100000000000001, 29.640151324376397),\n",
        " (28.699999999999999, 30.140799121031527),\n",
        " (23.300000000000001, 26.646268593657148),\n",
        " (24.600000000000001, 24.634474010440428),\n",
        " (8.4000000000000004, 13.899650320437985),\n",
        " (34.600000000000001, 34.792716998950425),\n",
        " (20.100000000000001, 15.76105713123909),\n",
        " (24.699999999999999, 22.937055405646131),\n",
        " (22.5, 29.828797227801417),\n",
        " (30.699999999999999, 30.506444237574772),\n",
        " (7.0, 8.0241705129022307),\n",
        " (16.100000000000001, 18.39913091948489),\n",
        " (19.800000000000001, 22.197371821667179),\n",
        " (18.0, 18.68574094899726),\n",
        " (24.5, 28.30031702622481),\n",
        " (22.600000000000001, 26.544758542928442),\n",
        " (24.600000000000001, 29.003782754863074),\n",
        " (31.600000000000001, 31.79954694306613),\n",
        " (24.699999999999999, 25.776810316687381),\n",
        " (48.799999999999997, 39.656630273015146),\n",
        " (19.399999999999999, 19.35983865009344),\n",
        " (10.4, 7.6855045836718769),\n",
        " (14.5, 13.712727845392655),\n",
        " (34.899999999999999, 30.567990564563761),\n",
        " (32.5, 30.83135318216646),\n",
        " (30.300000000000001, 32.778042518430951),\n",
        " (21.199999999999999, 22.270295791840418),\n",
        " (17.800000000000001, 19.480954521912711),\n",
        " (14.800000000000001, 14.512524312578122),\n",
        " (45.399999999999999, 38.114290827366773),\n",
        " (50.0, 39.498082573805689)]"
       ]
      }
     ],
     "prompt_number": 14
    },
    {
     "cell_type": "code",
     "collapsed": false,
     "input": [
      "from sklearn import linear_model\n",
      "linreg = linear_model.LinearRegression()"
     ],
     "language": "python",
     "metadata": {},
     "outputs": [],
     "prompt_number": 15
    },
    {
     "cell_type": "code",
     "collapsed": false,
     "input": [
      "_=linreg.fit(train_data, train_target)"
     ],
     "language": "python",
     "metadata": {},
     "outputs": [],
     "prompt_number": 16
    },
    {
     "cell_type": "code",
     "collapsed": false,
     "input": [
      "from sklearn import metrics\n",
      "mse = metrics.mean_squared_error(test_target, linreg.predict(test_data)) \n",
      "print(\"MSE is {}\".format(mse))"
     ],
     "language": "python",
     "metadata": {},
     "outputs": [
      {
       "output_type": "stream",
       "stream": "stdout",
       "text": [
        "MSE is 21.3951143837\n"
       ]
      }
     ],
     "prompt_number": 17
    },
    {
     "cell_type": "code",
     "collapsed": false,
     "input": [
      "rmse = np.sqrt(mse) \n",
      "print(\"RMSE is {}\".format(rmse))"
     ],
     "language": "python",
     "metadata": {},
     "outputs": [
      {
       "output_type": "stream",
       "stream": "stdout",
       "text": [
        "RMSE is 4.62548531331\n"
       ]
      }
     ],
     "prompt_number": 18
    },
    {
     "cell_type": "code",
     "collapsed": false,
     "input": [
      "linreg.fit(train_data, train_target)\n",
      "r2_train = metrics.r2_score(train_target, linreg.predict(train_data))\n",
      "r2_test = metrics.r2_score(test_target, linreg.predict(test_data))\n",
      "\n",
      "print(\"R2 on training: {:.2%}\".format(r2_train))\n",
      "print(\"R2 on testing: {:.2%}\".format(r2_test))"
     ],
     "language": "python",
     "metadata": {},
     "outputs": [
      {
       "output_type": "stream",
       "stream": "stdout",
       "text": [
        "R2 on training: 74.92%\n",
        "R2 on testing: 65.70%\n"
       ]
      }
     ],
     "prompt_number": 19
    },
    {
     "cell_type": "code",
     "collapsed": false,
     "input": [
      "lasso = linear_model.Lasso()\n",
      "lasso.fit(train_data, train_target)"
     ],
     "language": "python",
     "metadata": {},
     "outputs": [
      {
       "metadata": {},
       "output_type": "pyout",
       "prompt_number": 20,
       "text": [
        "Lasso(alpha=1.0, copy_X=True, fit_intercept=True, max_iter=1000,\n",
        "   normalize=False, positive=False, precompute='auto', tol=0.0001,\n",
        "   warm_start=False)"
       ]
      }
     ],
     "prompt_number": 20
    },
    {
     "cell_type": "code",
     "collapsed": false,
     "input": [
      "lasso = linear_model.Lasso(alpha=0.1)\n",
      "lasso.fit(train_data, train_target)"
     ],
     "language": "python",
     "metadata": {},
     "outputs": [
      {
       "metadata": {},
       "output_type": "pyout",
       "prompt_number": 21,
       "text": [
        "Lasso(alpha=0.1, copy_X=True, fit_intercept=True, max_iter=1000,\n",
        "   normalize=False, positive=False, precompute='auto', tol=0.0001,\n",
        "   warm_start=False)"
       ]
      }
     ],
     "prompt_number": 21
    },
    {
     "cell_type": "code",
     "collapsed": false,
     "input": [
      "fig,ax = plt.subplots()\n",
      "ax.plot(train_data.ptp(axis=0))\n",
      "ax.set_xticklabels(boston.feature_names)\n",
      "ax.set_xticks(np.arange(train_data.shape[1]))\n",
      "ax.set_ylabel('Max-min')"
     ],
     "language": "python",
     "metadata": {},
     "outputs": [
      {
       "metadata": {},
       "output_type": "pyout",
       "prompt_number": 22,
       "text": [
        "<matplotlib.text.Text at 0x16f646a0>"
       ]
      },
      {
       "metadata": {},
       "output_type": "display_data",
       "png": "[encoded data removed]",
       "text": [
        "<matplotlib.figure.Figure at 0x16f424a8>"
       ]
      }
     ],
     "prompt_number": 22
    },
    {
     "cell_type": "code",
     "collapsed": false,
     "input": [
      "lasso = linear_model.Lasso(normalize=True, alpha=1.0)\n",
      "lasso.fit(train_data, train_target)"
     ],
     "language": "python",
     "metadata": {},
     "outputs": [
      {
       "metadata": {},
       "output_type": "pyout",
       "prompt_number": 23,
       "text": [
        "Lasso(alpha=1.0, copy_X=True, fit_intercept=True, max_iter=1000,\n",
        "   normalize=True, positive=False, precompute='auto', tol=0.0001,\n",
        "   warm_start=False)"
       ]
      }
     ],
     "prompt_number": 23
    },
    {
     "cell_type": "code",
     "collapsed": false,
     "input": [
      "lasso = linear_model.Lasso(normalize=True, alpha=10.0)\n",
      "lasso.fit(train_data, train_target)"
     ],
     "language": "python",
     "metadata": {},
     "outputs": [
      {
       "metadata": {},
       "output_type": "pyout",
       "prompt_number": 24,
       "text": [
        "Lasso(alpha=10.0, copy_X=True, fit_intercept=True, max_iter=1000,\n",
        "   normalize=True, positive=False, precompute='auto', tol=0.0001,\n",
        "   warm_start=False)"
       ]
      }
     ],
     "prompt_number": 24
    },
    {
     "cell_type": "code",
     "collapsed": false,
     "input": [
      "lasso = linear_model.Lasso(normalize=True, alpha=15.0)\n",
      "lasso.fit(train_data, train_target)"
     ],
     "language": "python",
     "metadata": {},
     "outputs": [
      {
       "metadata": {},
       "output_type": "pyout",
       "prompt_number": 25,
       "text": [
        "Lasso(alpha=15.0, copy_X=True, fit_intercept=True, max_iter=1000,\n",
        "   normalize=True, positive=False, precompute='auto', tol=0.0001,\n",
        "   warm_start=False)"
       ]
      }
     ],
     "prompt_number": 25
    },
    {
     "cell_type": "code",
     "collapsed": false,
     "input": [
      "lasso = linear_model.Lasso(normalize=True, alpha=1.0)\n",
      "lasso.fit(train_data, train_target)"
     ],
     "language": "python",
     "metadata": {},
     "outputs": [
      {
       "metadata": {},
       "output_type": "pyout",
       "prompt_number": 26,
       "text": [
        "Lasso(alpha=1.0, copy_X=True, fit_intercept=True, max_iter=1000,\n",
        "   normalize=True, positive=False, precompute='auto', tol=0.0001,\n",
        "   warm_start=False)"
       ]
      }
     ],
     "prompt_number": 26
    },
    {
     "cell_type": "code",
     "collapsed": false,
     "input": [
      "results = \"\"\"\\\n",
      "      | TRAINING | TESTING\n",
      "------+----------+---------\n",
      "Lasso | {:.2%}   | {:.2%}\n",
      "---------------------------\n",
      "\"\"\".format(r2_lasso_train, r2_lasso)\n",
      "print(results)"
     ],
     "language": "python",
     "metadata": {},
     "outputs": [
      {
       "output_type": "stream",
       "stream": "stderr",
       "text": [
        "ERROR: An unexpected error occurred while tokenizing input\n",
        "The following traceback may be corrupted or invalid\n",
        "The error message is: ('EOF in multi-line string', (1, 0))\n",
        "\n"
       ]
      },
      {
       "ename": "NameError",
       "evalue": "name 'r2_lasso_train' is not defined",
       "output_type": "pyerr",
       "traceback": [
        "\u001b[1;31m---------------------------------------------------------------------------\u001b[0m\n\u001b[1;31mNameError\u001b[0m                                 Traceback (most recent call last)",
        "\u001b[1;32m<ipython-input-27-7597d6c9e6fa>\u001b[0m in \u001b[0;36m<module>\u001b[1;34m()\u001b[0m\n\u001b[0;32m      3\u001b[0m \u001b[0mLasso\u001b[0m \u001b[1;33m|\u001b[0m \u001b[1;33m{\u001b[0m\u001b[1;33m:\u001b[0m\u001b[1;36m.2\u001b[0m\u001b[1;33m%\u001b[0m\u001b[1;33m}\u001b[0m   \u001b[1;33m|\u001b[0m \u001b[1;33m{\u001b[0m\u001b[1;33m:\u001b[0m\u001b[1;36m.2\u001b[0m\u001b[1;33m%\u001b[0m\u001b[1;33m}\u001b[0m\u001b[1;33m\u001b[0m\u001b[0m\n\u001b[0;32m      4\u001b[0m \u001b[1;33m-\u001b[0m\u001b[1;33m-\u001b[0m\u001b[1;33m-\u001b[0m\u001b[1;33m-\u001b[0m\u001b[1;33m-\u001b[0m\u001b[1;33m-\u001b[0m\u001b[1;33m-\u001b[0m\u001b[1;33m-\u001b[0m\u001b[1;33m-\u001b[0m\u001b[1;33m-\u001b[0m\u001b[1;33m-\u001b[0m\u001b[1;33m-\u001b[0m\u001b[1;33m-\u001b[0m\u001b[1;33m-\u001b[0m\u001b[1;33m-\u001b[0m\u001b[1;33m-\u001b[0m\u001b[1;33m-\u001b[0m\u001b[1;33m-\u001b[0m\u001b[1;33m-\u001b[0m\u001b[1;33m-\u001b[0m\u001b[1;33m-\u001b[0m\u001b[1;33m-\u001b[0m\u001b[1;33m-\u001b[0m\u001b[1;33m-\u001b[0m\u001b[1;33m-\u001b[0m\u001b[1;33m-\u001b[0m\u001b[1;33m-\u001b[0m\u001b[1;33m\u001b[0m\u001b[0m\n\u001b[1;32m----> 5\u001b[1;33m \"\"\".format(r2_lasso_train, r2_lasso)\n\u001b[0m\u001b[0;32m      6\u001b[0m \u001b[1;32mprint\u001b[0m\u001b[1;33m(\u001b[0m\u001b[0mresults\u001b[0m\u001b[1;33m)\u001b[0m\u001b[1;33m\u001b[0m\u001b[0m\n",
        "\u001b[1;31mNameError\u001b[0m: name 'r2_lasso_train' is not defined"
       ]
      }
     ],
     "prompt_number": 27
    },
    {
     "cell_type": "code",
     "collapsed": false,
     "input": [
      "lasso.fit(train_data, train_target)\n",
      "r2_lasso_train = lasso.score(train_data, train_target)\n",
      "r2_lasso = lasso.score(test_data, test_target)"
     ],
     "language": "python",
     "metadata": {},
     "outputs": [],
     "prompt_number": 28
    },
    {
     "cell_type": "code",
     "collapsed": false,
     "input": [
      "results = \"\"\"\\\n",
      "      | TRAINING | TESTING\n",
      "------+----------+---------\n",
      "Lasso | {:.2%}   | {:.2%}\n",
      "---------------------------\n",
      "\"\"\".format(r2_lasso_train, r2_lasso)\n",
      "print(results)"
     ],
     "language": "python",
     "metadata": {},
     "outputs": [
      {
       "output_type": "stream",
       "stream": "stdout",
       "text": [
        "      | TRAINING | TESTING\n",
        "------+----------+---------\n",
        "Lasso | 0.00%   | -0.71%\n",
        "---------------------------\n",
        "\n"
       ]
      }
     ],
     "prompt_number": 29
    },
    {
     "cell_type": "code",
     "collapsed": false,
     "input": [
      "lasso = linear_model.Lasso(normalize=True, alpha=10.0)\n",
      "lasso.fit(train_data, train_target)"
     ],
     "language": "python",
     "metadata": {},
     "outputs": [
      {
       "metadata": {},
       "output_type": "pyout",
       "prompt_number": 30,
       "text": [
        "Lasso(alpha=10.0, copy_X=True, fit_intercept=True, max_iter=1000,\n",
        "   normalize=True, positive=False, precompute='auto', tol=0.0001,\n",
        "   warm_start=False)"
       ]
      }
     ],
     "prompt_number": 30
    },
    {
     "cell_type": "code",
     "collapsed": false,
     "input": [
      "lasso.fit(train_data, train_target)\n",
      "r2_lasso_train = lasso.score(train_data, train_target)\n",
      "r2_lasso = lasso.score(test_data, test_target)"
     ],
     "language": "python",
     "metadata": {},
     "outputs": [],
     "prompt_number": 31
    },
    {
     "cell_type": "code",
     "collapsed": false,
     "input": [
      "results = \"\"\"\\\n",
      "      | TRAINING | TESTING\n",
      "------+----------+---------\n",
      "Lasso | {:.5%}   | {:.5%}\n",
      "---------------------------\n",
      "\"\"\".format(r2_lasso_train, r2_lasso)\n",
      "print(results)"
     ],
     "language": "python",
     "metadata": {},
     "outputs": [
      {
       "output_type": "stream",
       "stream": "stdout",
       "text": [
        "      | TRAINING | TESTING\n",
        "------+----------+---------\n",
        "Lasso | 0.00000%   | -0.70878%\n",
        "---------------------------\n",
        "\n"
       ]
      }
     ],
     "prompt_number": 32
    },
    {
     "cell_type": "code",
     "collapsed": false,
     "input": [
      "results = \"\"\"\\\n",
      "      | TRAINING | TESTING\n",
      "------+----------+---------\n",
      "Lasso | {:.2%}   | {:.2%}\n",
      "---------------------------\n",
      "\"\"\".format(r2_lasso_train, r2_lasso)\n",
      "print(results)"
     ],
     "language": "python",
     "metadata": {},
     "outputs": [
      {
       "output_type": "stream",
       "stream": "stdout",
       "text": [
        "      | TRAINING | TESTING\n",
        "------+----------+---------\n",
        "Lasso | 0.00%   | -0.71%\n",
        "---------------------------\n",
        "\n"
       ]
      }
     ],
     "prompt_number": 33
    },
    {
     "cell_type": "code",
     "collapsed": false,
     "input": [
      "lasso = linear_model.Lasso(normalize=True, alpha=1.0)\n",
      "lasso.fit(train_data, train_target)"
     ],
     "language": "python",
     "metadata": {},
     "outputs": [
      {
       "metadata": {},
       "output_type": "pyout",
       "prompt_number": 34,
       "text": [
        "Lasso(alpha=1.0, copy_X=True, fit_intercept=True, max_iter=1000,\n",
        "   normalize=True, positive=False, precompute='auto', tol=0.0001,\n",
        "   warm_start=False)"
       ]
      }
     ],
     "prompt_number": 34
    },
    {
     "cell_type": "code",
     "collapsed": false,
     "input": [
      "lasso.fit(train_data, train_target)\n",
      "r2_lasso_train = lasso.score(train_data, train_target)\n",
      "r2_lasso = lasso.score(test_data, test_target)"
     ],
     "language": "python",
     "metadata": {},
     "outputs": [],
     "prompt_number": 35
    },
    {
     "cell_type": "code",
     "collapsed": false,
     "input": [
      "results = \"\"\"\\\n",
      "      | TRAINING | TESTING\n",
      "------+----------+---------\n",
      "Lasso | {:.2%}   | {:.2%}\n",
      "---------------------------\n",
      "\"\"\".format(r2_lasso_train, r2_lasso)\n",
      "print(results)"
     ],
     "language": "python",
     "metadata": {},
     "outputs": [
      {
       "output_type": "stream",
       "stream": "stdout",
       "text": [
        "      | TRAINING | TESTING\n",
        "------+----------+---------\n",
        "Lasso | 0.00%   | -0.71%\n",
        "---------------------------\n",
        "\n"
       ]
      }
     ],
     "prompt_number": 36
    },
    {
     "cell_type": "code",
     "collapsed": false,
     "input": [
      "ridge = linear_model.Ridge(normalize=True, alpha=.1)\n",
      "\n",
      "ridge.fit(train_data, train_target)\n",
      "r2_ridge_train = ridge.score(train_data, train_target)\n",
      "r2_ridge = ridge.score(test_data, test_target)"
     ],
     "language": "python",
     "metadata": {},
     "outputs": [],
     "prompt_number": 37
    },
    {
     "cell_type": "code",
     "collapsed": false,
     "input": [
      "results = \"\"\"\\\n",
      "      | TRAINING | TESTING\n",
      "------+----------+---------\n",
      "Lasso | {:.2%}   | {:.2%}\n",
      "------+----------+---------\n",
      "Ridge | {:.2%}   | {:.2%}\n",
      "---------------------------\n",
      "\"\"\".format(r2_lasso_train, r2_lasso,\n",
      "           r2_ridge_train, r2_ridge)\n",
      "print(results)"
     ],
     "language": "python",
     "metadata": {},
     "outputs": [
      {
       "output_type": "stream",
       "stream": "stdout",
       "text": [
        "      | TRAINING | TESTING\n",
        "------+----------+---------\n",
        "Lasso | 0.00%   | -0.71%\n",
        "------+----------+---------\n",
        "Ridge | 73.99%   | 67.93%\n",
        "---------------------------\n",
        "\n"
       ]
      }
     ],
     "prompt_number": 38
    },
    {
     "cell_type": "code",
     "collapsed": false,
     "input": [
      "lasso = linear_model.Lasso(normalize=True, alpha=0.1)\n",
      "lasso.fit(train_data, train_target)"
     ],
     "language": "python",
     "metadata": {},
     "outputs": [
      {
       "metadata": {},
       "output_type": "pyout",
       "prompt_number": 39,
       "text": [
        "Lasso(alpha=0.1, copy_X=True, fit_intercept=True, max_iter=1000,\n",
        "   normalize=True, positive=False, precompute='auto', tol=0.0001,\n",
        "   warm_start=False)"
       ]
      }
     ],
     "prompt_number": 39
    },
    {
     "cell_type": "code",
     "collapsed": false,
     "input": [
      "lasso.fit(train_data, train_target)\n",
      "\n",
      "r2_lasso_train = lasso.score(train_data, train_target)\n",
      "r2_lasso = lasso.score(test_data, test_target)"
     ],
     "language": "python",
     "metadata": {},
     "outputs": [],
     "prompt_number": 40
    },
    {
     "cell_type": "code",
     "collapsed": false,
     "input": [
      "results = \"\"\"\\\n",
      "      | TRAINING | TESTING\n",
      "------+----------+---------\n",
      "Lasso | {:.2%}   | {:.2%}\n",
      "---------------------------\n",
      "\"\"\".format(r2_lasso_train, r2_lasso)\n",
      "print(results)"
     ],
     "language": "python",
     "metadata": {},
     "outputs": [
      {
       "output_type": "stream",
       "stream": "stdout",
       "text": [
        "      | TRAINING | TESTING\n",
        "------+----------+---------\n",
        "Lasso | 61.46%   | 60.29%\n",
        "---------------------------\n",
        "\n"
       ]
      }
     ],
     "prompt_number": 41
    },
    {
     "cell_type": "code",
     "collapsed": false,
     "input": [
      "results = \"\"\"\\\n",
      "      | TRAINING | TESTING\n",
      "------+----------+---------\n",
      "Lasso | {:.2%}   | {:.2%}\n",
      "------+----------+---------\n",
      "Ridge | {:.2%}   | {:.2%}\n",
      "---------------------------\n",
      "\"\"\".format(r2_lasso_train, r2_lasso,\n",
      "           r2_ridge_train, r2_ridge)\n",
      "print(results)"
     ],
     "language": "python",
     "metadata": {},
     "outputs": [
      {
       "output_type": "stream",
       "stream": "stdout",
       "text": [
        "      | TRAINING | TESTING\n",
        "------+----------+---------\n",
        "Lasso | 61.46%   | 60.29%\n",
        "------+----------+---------\n",
        "Ridge | 73.99%   | 67.93%\n",
        "---------------------------\n",
        "\n"
       ]
      }
     ],
     "prompt_number": 42
    },
    {
     "cell_type": "code",
     "collapsed": false,
     "input": [
      "lasso.alpha = 0.1\n",
      "lasso.fit(train_data, train_target)\n",
      "ridge.alpha = 0.1\n",
      "ridge.fit(train_data, train_target)"
     ],
     "language": "python",
     "metadata": {},
     "outputs": [
      {
       "metadata": {},
       "output_type": "pyout",
       "prompt_number": 43,
       "text": [
        "Ridge(alpha=0.1, copy_X=True, fit_intercept=True, max_iter=None,\n",
        "   normalize=True, solver='auto', tol=0.001)"
       ]
      }
     ],
     "prompt_number": 43
    },
    {
     "cell_type": "code",
     "collapsed": false,
     "input": [
      "fig,ax = plt.subplots()\n",
      "ax.plot(lasso.coef_, label=r'Lasso ($\\alpha$=0.1)')\n",
      "ax.plot(ridge.coef_, label=r'Ridge ($\\alpha$=0.1)')\n",
      "ax.set_xticklabels(boston.feature_names)\n",
      "ax.set_xticks(np.arange(train_data.shape[1]))\n",
      "ax.legend(loc='best')"
     ],
     "language": "python",
     "metadata": {},
     "outputs": [
      {
       "metadata": {},
       "output_type": "pyout",
       "prompt_number": 44,
       "text": [
        "<matplotlib.legend.Legend at 0x171cb320>"
       ]
      },
      {
       "metadata": {},
       "output_type": "display_data",
       "png": "[encoded data removed]",
       "text": [
        "<matplotlib.figure.Figure at 0x171ab358>"
       ]
      }
     ],
     "prompt_number": 44
    },
    {
     "cell_type": "code",
     "collapsed": false,
     "input": [
      "fig,ax = plt.subplots()\n",
      "ax.plot(lasso.coef_, label=r'Lasso ($\\alpha$=10.0)')\n",
      "ax.plot(ridge.coef_, label=r'Ridge ($\\alpha$=10.0)')\n",
      "ax.set_xticklabels(boston.feature_names)\n",
      "ax.set_xticks(np.arange(train_data.shape[1]))\n",
      "ax.legend(loc='best')"
     ],
     "language": "python",
     "metadata": {},
     "outputs": [
      {
       "metadata": {},
       "output_type": "pyout",
       "prompt_number": 45,
       "text": [
        "<matplotlib.legend.Legend at 0x17631278>"
       ]
      },
      {
       "metadata": {},
       "output_type": "display_data",
       "png": "[encoded data removed]",
       "text": [
        "<matplotlib.figure.Figure at 0x1762a5f8>"
       ]
      }
     ],
     "prompt_number": 45
    },
    {
     "cell_type": "code",
     "collapsed": false,
     "input": [
      "from sklearn.metrics import r2_score\n",
      "y_true = [3, -0.5, 2, 7]\n",
      "y_pred = [2.5, 0.0, 2, 8]\n",
      "r2_score(y_true, y_pred)  "
     ],
     "language": "python",
     "metadata": {},
     "outputs": [
      {
       "metadata": {},
       "output_type": "pyout",
       "prompt_number": 46,
       "text": [
        "0.94860813704496794"
       ]
      }
     ],
     "prompt_number": 46
    },
    {
     "cell_type": "code",
     "collapsed": false,
     "input": [
      "from sklearn.metrics import mean_squared_error\n",
      "y_true = [3, -1, 6, 4]\n",
      "y_pred = [2.5, 1, 2, 8]\n",
      "mean_squared_error(y_true, y_pred)"
     ],
     "language": "python",
     "metadata": {},
     "outputs": [
      {
       "metadata": {},
       "output_type": "pyout",
       "prompt_number": 47,
       "text": [
        "9.0625"
       ]
      }
     ],
     "prompt_number": 47
    },
    {
     "cell_type": "code",
     "collapsed": false,
     "input": [
      "y_true = [[-0.5, 1],[-1, 1],[7, -6]]\n",
      "y_pred = [[0, -2],[-1, 2],[8, -5]]\n",
      "mean_squared_error(y_true, y_pred)"
     ],
     "language": "python",
     "metadata": {},
     "outputs": [
      {
       "metadata": {},
       "output_type": "pyout",
       "prompt_number": 48,
       "text": [
        "2.0416666666666665"
       ]
      }
     ],
     "prompt_number": 48
    },
    {
     "cell_type": "code",
     "collapsed": false,
     "input": [
      "from sklearn.datasets import *\n",
      "from sklearn.linear_model import LinearRegression\n",
      "\n",
      "data = load_boston()\n",
      "model = LinearRegression()\n",
      "model.fit(data.data, data.target)\n",
      "print model.__dict__\n",
      "print model.score(data.data, data.target)"
     ],
     "language": "python",
     "metadata": {},
     "outputs": [
      {
       "output_type": "stream",
       "stream": "stdout",
       "text": [
        "{'normalize': False, 'intercept_': 36.491103280361422, 'residues_': 11080.276284149875, 'fit_intercept': True, 'coef_': array([ -1.07170557e-01,   4.63952195e-02,   2.08602395e-02,\n",
        "         2.68856140e+00,  -1.77957587e+01,   3.80475246e+00,\n",
        "         7.51061703e-04,  -1.47575880e+00,   3.05655038e-01,\n",
        "        -1.23293463e-02,  -9.53463555e-01,   9.39251272e-03,\n",
        "        -5.25466633e-01]), 'copy_X': True, 'rank_': 13, 'singular_': array([  3.94958310e+03,   1.77662274e+03,   6.42864253e+02,\n",
        "         3.66980826e+02,   1.59116390e+02,   1.18692322e+02,\n",
        "         9.01718207e+01,   6.93889529e+01,   4.06572735e+01,\n",
        "         2.44223087e+01,   1.13502686e+01,   5.50918200e+00,\n",
        "         1.24178413e+00])}\n",
        "0.740607742865\n"
       ]
      }
     ],
     "prompt_number": 49
    },
    {
     "cell_type": "code",
     "collapsed": false,
     "input": [
      "clfA = LinearRegression()\n",
      "clfA.fit(X_train, y_train)"
     ],
     "language": "python",
     "metadata": {},
     "outputs": [
      {
       "metadata": {},
       "output_type": "pyout",
       "prompt_number": 50,
       "text": [
        "LinearRegression(copy_X=True, fit_intercept=True, normalize=False)"
       ]
      }
     ],
     "prompt_number": 50
    },
    {
     "cell_type": "code",
     "collapsed": false,
     "input": [
      "zip (y_test, clfA.predict(X_test))"
     ],
     "language": "python",
     "metadata": {},
     "outputs": [
      {
       "metadata": {},
       "output_type": "pyout",
       "prompt_number": 51,
       "text": [
        "[(20.5, 21.035228814782442),\n",
        " (23.699999999999999, 28.632889648228677),\n",
        " (17.100000000000001, 19.125192147937977),\n",
        " (12.5, 18.971569534633833),\n",
        " (25.199999999999999, 27.524667699352435),\n",
        " (50.0, 32.594013146549145),\n",
        " (12.699999999999999, 18.383717907837656),\n",
        " (19.5, 20.416261988583557),\n",
        " (18.800000000000001, 21.113643882479721),\n",
        " (10.4, 16.793505554340427),\n",
        " (16.800000000000001, 20.244987829587192),\n",
        " (50.0, 34.386243541303841),\n",
        " (20.0, 22.778788350130334),\n",
        " (13.300000000000001, 19.702952058576447),\n",
        " (14.9, 14.760575402169412),\n",
        " (22.800000000000001, 28.549784952656513),\n",
        " (13.1, 14.301651109782634),\n",
        " (19.100000000000001, 19.775531954186288),\n",
        " (19.600000000000001, 17.685176852363156),\n",
        " (13.6, 13.414251995631746),\n",
        " (18.899999999999999, 18.96754570602193),\n",
        " (12.699999999999999, 11.309762207965422),\n",
        " (22.0, 21.408706668846737),\n",
        " (23.699999999999999, 10.828195910162103),\n",
        " (15.199999999999999, 18.970528683590249),\n",
        " (13.800000000000001, 20.316666496096467),\n",
        " (15.300000000000001, 20.733870707710732),\n",
        " (21.699999999999999, 22.229173882254262),\n",
        " (21.5, 24.798535087769281),\n",
        " (14.1, 18.128980973828817),\n",
        " (34.899999999999999, 34.181134459030517),\n",
        " (37.0, 30.638709918775277),\n",
        " (16.800000000000001, 20.275112250583177),\n",
        " (5.0, 10.537906908626546),\n",
        " (23.899999999999999, 27.915110840381743),\n",
        " (20.800000000000001, 23.312441952162544),\n",
        " (38.700000000000003, 34.464449479381457),\n",
        " (23.199999999999999, 27.801470675672643),\n",
        " (20.0, 20.53849475115225),\n",
        " (28.199999999999999, 32.699105639238837),\n",
        " (36.0, 35.832382829051369),\n",
        " (50.0, 40.564350789956116),\n",
        " (26.399999999999999, 22.893861257144611),\n",
        " (23.899999999999999, 26.046117493686811),\n",
        " (11.699999999999999, 14.938196809436301),\n",
        " (22.699999999999999, 25.136318629371257),\n",
        " (14.5, 18.067102808950054),\n",
        " (12.6, 18.184983294764685),\n",
        " (22.5, 22.062556529544501),\n",
        " (39.799999999999997, 33.610551439068423),\n",
        " (13.5, 12.924658333350978),\n",
        " (21.699999999999999, 20.303094073168698),\n",
        " (19.0, 21.408697892394255),\n",
        " (23.800000000000001, 25.260309035179191),\n",
        " (18.399999999999999, 18.65923482720806),\n",
        " (50.0, 34.812960169625036),\n",
        " (29.399999999999999, 30.384435241135272),\n",
        " (12.300000000000001, 13.233090252643031),\n",
        " (27.899999999999999, 20.71373410657494),\n",
        " (21.100000000000001, 20.83509172425725),\n",
        " (22.600000000000001, 19.282173145719046),\n",
        " (22.199999999999999, 22.275197886316764),\n",
        " (33.399999999999999, 28.232751283954933),\n",
        " (28.399999999999999, 28.183302673749488),\n",
        " (27.0, 32.795924221829466),\n",
        " (20.899999999999999, 22.811005270655595),\n",
        " (19.0, 14.272816875214582),\n",
        " (20.800000000000001, 19.147692741569543),\n",
        " (7.2000000000000002, 17.805564191376426),\n",
        " (11.800000000000001, 8.9625011982948113),\n",
        " (20.699999999999999, 25.880321424653051),\n",
        " (16.300000000000001, 13.134853266529797),\n",
        " (21.100000000000001, 22.685416620230956),\n",
        " (20.0, 18.653392335019259),\n",
        " (23.5, 31.28089005166126),\n",
        " (16.199999999999999, 15.365122057850154),\n",
        " (29.800000000000001, 25.105895137370588),\n",
        " (27.899999999999999, 32.699098662132918),\n",
        " (13.1, 16.005017962206395),\n",
        " (28.0, 28.424030497171408),\n",
        " (48.299999999999997, 35.892407753181729),\n",
        " (25.0, 29.734927063488492),\n",
        " (8.4000000000000004, 4.4281728806444249),\n",
        " (19.699999999999999, 13.967975590691896),\n",
        " (14.4, 4.006038694252112),\n",
        " (10.199999999999999, 16.638770889307807),\n",
        " (28.399999999999999, 30.851278269391109),\n",
        " (22.800000000000001, 24.821613187968318),\n",
        " (23.399999999999999, 24.094391957752428),\n",
        " (30.100000000000001, 26.628215225860721),\n",
        " (24.699999999999999, 24.668500142927133),\n",
        " (17.100000000000001, 20.520615435690793),\n",
        " (24.399999999999999, 28.629270995860484),\n",
        " (15.6, 12.154008020025557),\n",
        " (14.0, 13.126327779201048),\n",
        " (35.399999999999999, 34.191637954443941),\n",
        " (25.100000000000001, 29.640151324376397),\n",
        " (28.699999999999999, 30.140799121031527),\n",
        " (23.300000000000001, 26.646268593657148),\n",
        " (24.600000000000001, 24.634474010440428),\n",
        " (8.4000000000000004, 13.899650320437985),\n",
        " (34.600000000000001, 34.792716998950425),\n",
        " (20.100000000000001, 15.76105713123909),\n",
        " (24.699999999999999, 22.937055405646131),\n",
        " (22.5, 29.828797227801417),\n",
        " (30.699999999999999, 30.506444237574772),\n",
        " (7.0, 8.0241705129022307),\n",
        " (16.100000000000001, 18.39913091948489),\n",
        " (19.800000000000001, 22.197371821667179),\n",
        " (18.0, 18.68574094899726),\n",
        " (24.5, 28.30031702622481),\n",
        " (22.600000000000001, 26.544758542928442),\n",
        " (24.600000000000001, 29.003782754863074),\n",
        " (31.600000000000001, 31.79954694306613),\n",
        " (24.699999999999999, 25.776810316687381),\n",
        " (48.799999999999997, 39.656630273015146),\n",
        " (19.399999999999999, 19.35983865009344),\n",
        " (10.4, 7.6855045836718769),\n",
        " (14.5, 13.712727845392655),\n",
        " (34.899999999999999, 30.567990564563761),\n",
        " (32.5, 30.83135318216646),\n",
        " (30.300000000000001, 32.778042518430951),\n",
        " (21.199999999999999, 22.270295791840418),\n",
        " (17.800000000000001, 19.480954521912711),\n",
        " (14.800000000000001, 14.512524312578122),\n",
        " (45.399999999999999, 38.114290827366773),\n",
        " (50.0, 39.498082573805689)]"
       ]
      }
     ],
     "prompt_number": 51
    },
    {
     "cell_type": "code",
     "collapsed": false,
     "input": [
      "r2_score(y_test, clfA.predict(X_test))"
     ],
     "language": "python",
     "metadata": {},
     "outputs": [
      {
       "metadata": {},
       "output_type": "pyout",
       "prompt_number": 52,
       "text": [
        "0.74631896039675216"
       ]
      }
     ],
     "prompt_number": 52
    },
    {
     "cell_type": "code",
     "collapsed": false,
     "input": [
      "math.sqrt(mean_squared_error(y_test, clfA.predict(X_test)))"
     ],
     "language": "python",
     "metadata": {},
     "outputs": [
      {
       "metadata": {},
       "output_type": "pyout",
       "prompt_number": 53,
       "text": [
        "4.90484504186817"
       ]
      }
     ],
     "prompt_number": 53
    },
    {
     "cell_type": "code",
     "collapsed": false,
     "input": [
      "from sklearn import datasets\n",
      "import pandas as pd\n",
      "from sklearn.preprocessing import StandardScaler\n",
      "from sklearn.cross_validation import train_test_split\n",
      "from sklearn.metrics import mean_squared_error\n",
      "from sklearn.metrics import r2_score\n",
      "from sklearn.linear_model import LinearRegression\n",
      "from sklearn.linear_model import Lasso\n",
      "import math"
     ],
     "language": "python",
     "metadata": {},
     "outputs": [],
     "prompt_number": 54
    },
    {
     "cell_type": "code",
     "collapsed": false,
     "input": [
      "def load_boston():\n",
      "    scaler = StandardScaler()\n",
      "    boston = datasets.load_boston()\n",
      "    X=boston.data\n",
      "    y=boston.target\n",
      "    X = scaler.fit_transform(X)\n",
      "    return train_test_split(X,y)"
     ],
     "language": "python",
     "metadata": {},
     "outputs": [],
     "prompt_number": 55
    },
    {
     "cell_type": "code",
     "collapsed": false,
     "input": [
      "X_train, X_test, y_train, y_test = load_boston()"
     ],
     "language": "python",
     "metadata": {},
     "outputs": [],
     "prompt_number": 56
    },
    {
     "cell_type": "code",
     "collapsed": false,
     "input": [
      "X_train.shape"
     ],
     "language": "python",
     "metadata": {},
     "outputs": [
      {
       "metadata": {},
       "output_type": "pyout",
       "prompt_number": 57,
       "text": [
        "(379L, 13L)"
       ]
      }
     ],
     "prompt_number": 57
    },
    {
     "cell_type": "code",
     "collapsed": false,
     "input": [
      "clfA = LinearRegression()\n",
      "clfA.fit(X_train, y_train)"
     ],
     "language": "python",
     "metadata": {},
     "outputs": [
      {
       "metadata": {},
       "output_type": "pyout",
       "prompt_number": 58,
       "text": [
        "LinearRegression(copy_X=True, fit_intercept=True, normalize=False)"
       ]
      }
     ],
     "prompt_number": 58
    },
    {
     "cell_type": "code",
     "collapsed": false,
     "input": [
      "zip (y_test, clfA.predict(X_test))"
     ],
     "language": "python",
     "metadata": {},
     "outputs": [
      {
       "metadata": {},
       "output_type": "pyout",
       "prompt_number": 59,
       "text": [
        "[(22.199999999999999, 19.517342069226171),\n",
        " (31.0, 34.057668080860438),\n",
        " (16.699999999999999, 20.529141105364097),\n",
        " (22.0, 27.756554168193411),\n",
        " (24.0, 29.99044920082039),\n",
        " (28.699999999999999, 25.241592812168292),\n",
        " (14.4, 9.0335339820912282),\n",
        " (15.6, 20.638563465413355),\n",
        " (23.699999999999999, 28.608657670660129),\n",
        " (20.399999999999999, 20.273458821458025),\n",
        " (25.0, 25.178148916795386),\n",
        " (20.100000000000001, 21.372993382202601),\n",
        " (8.6999999999999993, 9.3253862192549821),\n",
        " (21.0, 23.145334721484062),\n",
        " (8.0999999999999996, 4.0599444285317823),\n",
        " (22.199999999999999, 25.678682173303763),\n",
        " (32.0, 33.458796022911926),\n",
        " (25.0, 28.45117241944347),\n",
        " (21.100000000000001, 22.399472924456752),\n",
        " (21.399999999999999, 22.033572999364843),\n",
        " (36.100000000000001, 33.172111456678799),\n",
        " (21.199999999999999, 22.433085492000103),\n",
        " (37.899999999999999, 33.307461621434996),\n",
        " (33.200000000000003, 35.853762255793107),\n",
        " (22.300000000000001, 27.512142126544958),\n",
        " (12.800000000000001, 13.501370207988973),\n",
        " (19.899999999999999, 20.200513103543582),\n",
        " (24.0, 25.050294426391293),\n",
        " (10.199999999999999, 6.9581184751125367),\n",
        " (18.199999999999999, 18.590294430910632),\n",
        " (15.6, 16.042130849300179),\n",
        " (26.199999999999999, 24.520179044342413),\n",
        " (24.300000000000001, 24.253122856300898),\n",
        " (13.6, 14.008298237381631),\n",
        " (32.0, 33.790411186943572),\n",
        " (28.699999999999999, 27.918374503153025),\n",
        " (24.800000000000001, 27.293600274938999),\n",
        " (20.300000000000001, 22.427710945349023),\n",
        " (10.9, 14.910919726621708),\n",
        " (26.399999999999999, 22.371969125808704),\n",
        " (21.899999999999999, 15.835104019661685),\n",
        " (46.0, 40.198032094692628),\n",
        " (50.0, 40.172448374517288),\n",
        " (23.300000000000001, 25.664669107186523),\n",
        " (10.4, 16.062652645431683),\n",
        " (24.100000000000001, 29.852011347288808),\n",
        " (24.199999999999999, 25.244593608526884),\n",
        " (7.2000000000000002, 18.104088492331009),\n",
        " (11.0, 14.527532689679838),\n",
        " (20.600000000000001, 19.712783265238471),\n",
        " (13.199999999999999, 9.0383006988236438),\n",
        " (8.5, 8.4009765979376105),\n",
        " (22.0, 28.977873562632169),\n",
        " (25.0, 25.017254821925839),\n",
        " (50.0, 40.313470949706286),\n",
        " (18.899999999999999, 21.583627078789103),\n",
        " (22.600000000000001, 26.888041746509053),\n",
        " (14.1, 17.834100295753998),\n",
        " (50.0, 42.750349255289109),\n",
        " (19.399999999999999, 17.198784351926236),\n",
        " (18.300000000000001, 19.233109860829547),\n",
        " (16.600000000000001, 15.654992911568197),\n",
        " (17.300000000000001, 15.954544120811633),\n",
        " (21.699999999999999, 21.801589537411186),\n",
        " (23.100000000000001, 11.163236278049769),\n",
        " (24.399999999999999, 24.641904798372874),\n",
        " (20.600000000000001, 21.516878498285539),\n",
        " (16.800000000000001, 20.851549572414335),\n",
        " (8.4000000000000004, 14.996091091448944),\n",
        " (28.5, 33.900905481491606),\n",
        " (46.700000000000003, 35.202554618221349),\n",
        " (12.5, 19.434920580232042),\n",
        " (15.300000000000001, 20.667025101271733),\n",
        " (22.0, 27.325140102898878),\n",
        " (30.800000000000001, 31.905968227972711),\n",
        " (23.100000000000001, 24.201188440224772),\n",
        " (17.800000000000001, 16.50847306487341),\n",
        " (20.0, 17.068318642934486),\n",
        " (14.1, 16.081231635760481),\n",
        " (22.199999999999999, 22.416425736116469),\n",
        " (20.300000000000001, 22.064582135793387),\n",
        " (35.200000000000003, 35.563991141981113),\n",
        " (21.699999999999999, 21.036584720784855),\n",
        " (20.0, 22.718415559913417),\n",
        " (50.0, 43.350890622205398),\n",
        " (16.800000000000001, 20.494795481071129),\n",
        " (13.4, 15.142641690597808),\n",
        " (19.699999999999999, 21.430605075314553),\n",
        " (11.300000000000001, 13.729648181412859),\n",
        " (17.100000000000001, 19.383744394015338),\n",
        " (14.6, 8.8859559387194373),\n",
        " (23.300000000000001, 22.262686885076043),\n",
        " (14.199999999999999, 18.387232552431804),\n",
        " (13.9, 13.608201061607959),\n",
        " (13.0, 17.485202579837839),\n",
        " (14.0, 13.665610360281075),\n",
        " (17.100000000000001, 17.655548613810577),\n",
        " (14.9, 17.975786861065313),\n",
        " (50.0, 24.907866175896189),\n",
        " (50.0, 35.447108264549897),\n",
        " (13.1, 20.476298375871337),\n",
        " (22.600000000000001, 19.628007820526133),\n",
        " (15.0, 18.963554092670048),\n",
        " (23.600000000000001, 30.31686675313264),\n",
        " (23.100000000000001, 17.204669591503745),\n",
        " (24.100000000000001, 25.558419679506585),\n",
        " (5.0, 7.4612197962800142),\n",
        " (28.399999999999999, 30.667042550417495),\n",
        " (50.0, 36.578814404611386),\n",
        " (22.5, 29.696303425870909),\n",
        " (17.800000000000001, 22.675812806624872),\n",
        " (15.6, 15.824572287999263),\n",
        " (20.199999999999999, 22.69159935127027),\n",
        " (21.199999999999999, 23.295183301782931),\n",
        " (18.699999999999999, 21.512866589380501),\n",
        " (30.5, 30.62013929845623),\n",
        " (24.399999999999999, 23.645104653643319),\n",
        " (11.9, 22.35453635666622),\n",
        " (27.5, 31.992467350723938),\n",
        " (30.300000000000001, 33.056430603561424),\n",
        " (8.3000000000000007, 10.33379669741662),\n",
        " (22.699999999999999, 22.896827319800021),\n",
        " (24.800000000000001, 26.239796005774565),\n",
        " (25.0, 29.054597141893012),\n",
        " (20.100000000000001, 18.928290943969969),\n",
        " (21.699999999999999, 22.393851628942471),\n",
        " (10.199999999999999, 16.580742250173444)]"
       ]
      }
     ],
     "prompt_number": 59
    },
    {
     "cell_type": "code",
     "collapsed": false,
     "input": [
      "r2_score(y_test, clfA.predict(X_test))"
     ],
     "language": "python",
     "metadata": {},
     "outputs": [
      {
       "metadata": {},
       "output_type": "pyout",
       "prompt_number": 60,
       "text": [
        "0.74092527376083428"
       ]
      }
     ],
     "prompt_number": 60
    },
    {
     "cell_type": "code",
     "collapsed": false,
     "input": [
      " from sklearn import linear_model"
     ],
     "language": "python",
     "metadata": {},
     "outputs": [],
     "prompt_number": 61
    },
    {
     "cell_type": "code",
     "collapsed": false,
     "input": [
      "clfA = linear_model.Lasso(alpha=0.1)"
     ],
     "language": "python",
     "metadata": {},
     "outputs": [],
     "prompt_number": 62
    },
    {
     "cell_type": "code",
     "collapsed": false,
     "input": [
      "clfA.fit(X_train, y_train)"
     ],
     "language": "python",
     "metadata": {},
     "outputs": [
      {
       "metadata": {},
       "output_type": "pyout",
       "prompt_number": 63,
       "text": [
        "Lasso(alpha=0.1, copy_X=True, fit_intercept=True, max_iter=1000,\n",
        "   normalize=False, positive=False, precompute='auto', tol=0.0001,\n",
        "   warm_start=False)"
       ]
      }
     ],
     "prompt_number": 63
    },
    {
     "cell_type": "code",
     "collapsed": false,
     "input": [
      " print(clfA.coef_)"
     ],
     "language": "python",
     "metadata": {},
     "outputs": [
      {
       "output_type": "stream",
       "stream": "stdout",
       "text": [
        "[-0.39046578  0.88019851 -0.05960816  0.74154405 -1.34367096  2.74443717\n",
        " -0.         -2.20323302  0.95216434 -0.6110121  -1.82171323  0.76920698\n",
        " -3.714211  ]\n"
       ]
      }
     ],
     "prompt_number": 64
    },
    {
     "cell_type": "code",
     "collapsed": false,
     "input": [
      "print(clfA.intercept_)"
     ],
     "language": "python",
     "metadata": {},
     "outputs": [
      {
       "output_type": "stream",
       "stream": "stdout",
       "text": [
        "22.6605738455\n"
       ]
      }
     ],
     "prompt_number": 65
    },
    {
     "cell_type": "code",
     "collapsed": false,
     "input": [
      "zip (y_test, clfA.predict(X_test))"
     ],
     "language": "python",
     "metadata": {},
     "outputs": [
      {
       "metadata": {},
       "output_type": "pyout",
       "prompt_number": 66,
       "text": [
        "[(22.199999999999999, 19.69034618070399),\n",
        " (31.0, 33.435535364775873),\n",
        " (16.699999999999999, 19.934528604623846),\n",
        " (22.0, 27.988580862941223),\n",
        " (24.0, 30.432647163301183),\n",
        " (28.699999999999999, 25.529241216630865),\n",
        " (14.4, 9.0933007554496434),\n",
        " (15.6, 22.023515906090498),\n",
        " (23.699999999999999, 28.141478602357942),\n",
        " (20.399999999999999, 20.562961884713459),\n",
        " (25.0, 25.184212757502202),\n",
        " (20.100000000000001, 21.593435370002325),\n",
        " (8.6999999999999993, 9.8067107659321415),\n",
        " (21.0, 22.740123649890126),\n",
        " (8.0999999999999996, 6.53640259897983),\n",
        " (22.199999999999999, 25.232528785716809),\n",
        " (32.0, 32.978141250633421),\n",
        " (25.0, 28.013556699978217),\n",
        " (21.100000000000001, 21.606311855696706),\n",
        " (21.399999999999999, 21.669395991887551),\n",
        " (36.100000000000001, 31.691756074764193),\n",
        " (21.199999999999999, 22.063183857265777),\n",
        " (37.899999999999999, 32.59759862235213),\n",
        " (33.200000000000003, 35.099651975102809),\n",
        " (22.300000000000001, 26.954315761762388),\n",
        " (12.800000000000001, 13.246162198735886),\n",
        " (19.899999999999999, 19.60105828914546),\n",
        " (24.0, 24.326614509866083),\n",
        " (10.199999999999999, 6.5715461703359423),\n",
        " (18.199999999999999, 18.818263427691829),\n",
        " (15.6, 17.19149154211798),\n",
        " (26.199999999999999, 24.915567673217414),\n",
        " (24.300000000000001, 23.533584075229896),\n",
        " (13.6, 16.62228324077055),\n",
        " (32.0, 32.770225043723009),\n",
        " (28.699999999999999, 27.569244829283036),\n",
        " (24.800000000000001, 26.72514304532146),\n",
        " (20.300000000000001, 22.708769735686914),\n",
        " (10.9, 16.032997380649874),\n",
        " (26.399999999999999, 21.437492864085787),\n",
        " (21.899999999999999, 15.173381652429393),\n",
        " (46.0, 39.455131378055142),\n",
        " (50.0, 40.694450063265862),\n",
        " (23.300000000000001, 26.878118264154214),\n",
        " (10.4, 19.043527906284698),\n",
        " (24.100000000000001, 29.524309843446016),\n",
        " (24.199999999999999, 25.247931379417203),\n",
        " (7.2000000000000002, 17.958305791929025),\n",
        " (11.0, 14.311653930548212),\n",
        " (20.600000000000001, 19.090346604509975),\n",
        " (13.199999999999999, 9.567864541696304),\n",
        " (8.5, 9.2632641751622327),\n",
        " (22.0, 28.312424127632969),\n",
        " (25.0, 25.449301599702743),\n",
        " (50.0, 39.624755936727212),\n",
        " (18.899999999999999, 22.03466651061893),\n",
        " (22.600000000000001, 26.801408007823618),\n",
        " (14.1, 17.751641998372538),\n",
        " (50.0, 42.28023763607878),\n",
        " (19.399999999999999, 17.267027602722901),\n",
        " (18.300000000000001, 19.500807615136278),\n",
        " (16.600000000000001, 16.273030224363403),\n",
        " (17.300000000000001, 14.919832412617684),\n",
        " (21.699999999999999, 21.759345445301545),\n",
        " (23.100000000000001, 10.480612439563973),\n",
        " (24.399999999999999, 24.829868457550255),\n",
        " (20.600000000000001, 20.84184864208218),\n",
        " (16.800000000000001, 20.571966414021027),\n",
        " (8.4000000000000004, 15.229959090610958),\n",
        " (28.5, 32.355184236165087),\n",
        " (46.700000000000003, 34.538655964487475),\n",
        " (12.5, 18.968034814692441),\n",
        " (15.300000000000001, 21.480204259132581),\n",
        " (22.0, 27.099735429325438),\n",
        " (30.800000000000001, 30.745869324259836),\n",
        " (23.100000000000001, 24.30126806667198),\n",
        " (17.800000000000001, 17.266846021128888),\n",
        " (20.0, 16.753461195581586),\n",
        " (14.1, 16.18868820278292),\n",
        " (22.199999999999999, 22.64615312032889),\n",
        " (20.300000000000001, 21.09904293852783),\n",
        " (35.200000000000003, 35.132704883654924),\n",
        " (21.699999999999999, 21.0547644392779),\n",
        " (20.0, 23.080055767043),\n",
        " (50.0, 41.515263703607019),\n",
        " (16.800000000000001, 20.707244682540356),\n",
        " (13.4, 16.010352253411227),\n",
        " (19.699999999999999, 21.252010791813177),\n",
        " (11.300000000000001, 13.237057631841003),\n",
        " (17.100000000000001, 20.26167854353891),\n",
        " (14.6, 9.6657326702575759),\n",
        " (23.300000000000001, 22.14245372171241),\n",
        " (14.199999999999999, 18.120336419367671),\n",
        " (13.9, 14.162184041577165),\n",
        " (13.0, 17.424855573527456),\n",
        " (14.0, 14.385787445969234),\n",
        " (17.100000000000001, 17.674228107959529),\n",
        " (14.9, 17.896699036115876),\n",
        " (50.0, 24.191377633573111),\n",
        " (50.0, 34.900133731635137),\n",
        " (13.1, 20.175472002837605),\n",
        " (22.600000000000001, 19.566519118549699),\n",
        " (15.0, 19.567839250858029),\n",
        " (23.600000000000001, 30.525910083962629),\n",
        " (23.100000000000001, 17.265932608726683),\n",
        " (24.100000000000001, 25.730285515428186),\n",
        " (5.0, 8.1236722604917855),\n",
        " (28.399999999999999, 28.90654567127368),\n",
        " (50.0, 37.157094004230743),\n",
        " (22.5, 29.58025334933615),\n",
        " (17.800000000000001, 22.870102323106615),\n",
        " (15.6, 16.370661480776956),\n",
        " (20.199999999999999, 22.683806671780104),\n",
        " (21.199999999999999, 23.681755231059153),\n",
        " (18.699999999999999, 21.190320125433995),\n",
        " (30.5, 30.992807651410224),\n",
        " (24.399999999999999, 23.458320543127385),\n",
        " (11.9, 22.562584620033821),\n",
        " (27.5, 31.343674756979397),\n",
        " (30.300000000000001, 33.058684690127876),\n",
        " (8.3000000000000007, 10.546248652403115),\n",
        " (22.699999999999999, 22.94022862126322),\n",
        " (24.800000000000001, 25.893802956730092),\n",
        " (25.0, 27.913494564963077),\n",
        " (20.100000000000001, 18.445429447117597),\n",
        " (21.699999999999999, 22.170941541187478),\n",
        " (10.199999999999999, 16.162987168552011)]"
       ]
      }
     ],
     "prompt_number": 66
    },
    {
     "cell_type": "code",
     "collapsed": false,
     "input": [
      "r2_score(y_test, clfA.predict(X_test))"
     ],
     "language": "python",
     "metadata": {},
     "outputs": [
      {
       "metadata": {},
       "output_type": "pyout",
       "prompt_number": 67,
       "text": [
        "0.72795767117117527"
       ]
      }
     ],
     "prompt_number": 67
    },
    {
     "cell_type": "code",
     "collapsed": false,
     "input": [
      "clfB = linear_model.Lasso(alpha=10.0)\n",
      " "
     ],
     "language": "python",
     "metadata": {},
     "outputs": [],
     "prompt_number": 68
    },
    {
     "cell_type": "code",
     "collapsed": false,
     "input": [
      "clfB.fit(X_train, y_train)"
     ],
     "language": "python",
     "metadata": {},
     "outputs": [
      {
       "metadata": {},
       "output_type": "pyout",
       "prompt_number": 69,
       "text": [
        "Lasso(alpha=10.0, copy_X=True, fit_intercept=True, max_iter=1000,\n",
        "   normalize=False, positive=False, precompute='auto', tol=0.0001,\n",
        "   warm_start=False)"
       ]
      }
     ],
     "prompt_number": 69
    },
    {
     "cell_type": "code",
     "collapsed": false,
     "input": [
      " print(clfB.coef_)"
     ],
     "language": "python",
     "metadata": {},
     "outputs": [
      {
       "output_type": "stream",
       "stream": "stdout",
       "text": [
        "[-0.  0. -0.  0. -0.  0. -0.  0. -0. -0. -0.  0. -0.]\n"
       ]
      }
     ],
     "prompt_number": 70
    },
    {
     "cell_type": "code",
     "collapsed": false,
     "input": [
      "print(clfB.intercept_)"
     ],
     "language": "python",
     "metadata": {},
     "outputs": [
      {
       "output_type": "stream",
       "stream": "stdout",
       "text": [
        "22.6604221636\n"
       ]
      }
     ],
     "prompt_number": 71
    },
    {
     "cell_type": "code",
     "collapsed": false,
     "input": [
      "zip (y_test, clfB.predict(X_test))"
     ],
     "language": "python",
     "metadata": {},
     "outputs": [
      {
       "metadata": {},
       "output_type": "pyout",
       "prompt_number": 72,
       "text": [
        "[(22.199999999999999, 22.66042216358839),\n",
        " (31.0, 22.66042216358839),\n",
        " (16.699999999999999, 22.66042216358839),\n",
        " (22.0, 22.66042216358839),\n",
        " (24.0, 22.66042216358839),\n",
        " (28.699999999999999, 22.66042216358839),\n",
        " (14.4, 22.66042216358839),\n",
        " (15.6, 22.66042216358839),\n",
        " (23.699999999999999, 22.66042216358839),\n",
        " (20.399999999999999, 22.66042216358839),\n",
        " (25.0, 22.66042216358839),\n",
        " (20.100000000000001, 22.66042216358839),\n",
        " (8.6999999999999993, 22.66042216358839),\n",
        " (21.0, 22.66042216358839),\n",
        " (8.0999999999999996, 22.66042216358839),\n",
        " (22.199999999999999, 22.66042216358839),\n",
        " (32.0, 22.66042216358839),\n",
        " (25.0, 22.66042216358839),\n",
        " (21.100000000000001, 22.66042216358839),\n",
        " (21.399999999999999, 22.66042216358839),\n",
        " (36.100000000000001, 22.66042216358839),\n",
        " (21.199999999999999, 22.66042216358839),\n",
        " (37.899999999999999, 22.66042216358839),\n",
        " (33.200000000000003, 22.66042216358839),\n",
        " (22.300000000000001, 22.66042216358839),\n",
        " (12.800000000000001, 22.66042216358839),\n",
        " (19.899999999999999, 22.66042216358839),\n",
        " (24.0, 22.66042216358839),\n",
        " (10.199999999999999, 22.66042216358839),\n",
        " (18.199999999999999, 22.66042216358839),\n",
        " (15.6, 22.66042216358839),\n",
        " (26.199999999999999, 22.66042216358839),\n",
        " (24.300000000000001, 22.66042216358839),\n",
        " (13.6, 22.66042216358839),\n",
        " (32.0, 22.66042216358839),\n",
        " (28.699999999999999, 22.66042216358839),\n",
        " (24.800000000000001, 22.66042216358839),\n",
        " (20.300000000000001, 22.66042216358839),\n",
        " (10.9, 22.66042216358839),\n",
        " (26.399999999999999, 22.66042216358839),\n",
        " (21.899999999999999, 22.66042216358839),\n",
        " (46.0, 22.66042216358839),\n",
        " (50.0, 22.66042216358839),\n",
        " (23.300000000000001, 22.66042216358839),\n",
        " (10.4, 22.66042216358839),\n",
        " (24.100000000000001, 22.66042216358839),\n",
        " (24.199999999999999, 22.66042216358839),\n",
        " (7.2000000000000002, 22.66042216358839),\n",
        " (11.0, 22.66042216358839),\n",
        " (20.600000000000001, 22.66042216358839),\n",
        " (13.199999999999999, 22.66042216358839),\n",
        " (8.5, 22.66042216358839),\n",
        " (22.0, 22.66042216358839),\n",
        " (25.0, 22.66042216358839),\n",
        " (50.0, 22.66042216358839),\n",
        " (18.899999999999999, 22.66042216358839),\n",
        " (22.600000000000001, 22.66042216358839),\n",
        " (14.1, 22.66042216358839),\n",
        " (50.0, 22.66042216358839),\n",
        " (19.399999999999999, 22.66042216358839),\n",
        " (18.300000000000001, 22.66042216358839),\n",
        " (16.600000000000001, 22.66042216358839),\n",
        " (17.300000000000001, 22.66042216358839),\n",
        " (21.699999999999999, 22.66042216358839),\n",
        " (23.100000000000001, 22.66042216358839),\n",
        " (24.399999999999999, 22.66042216358839),\n",
        " (20.600000000000001, 22.66042216358839),\n",
        " (16.800000000000001, 22.66042216358839),\n",
        " (8.4000000000000004, 22.66042216358839),\n",
        " (28.5, 22.66042216358839),\n",
        " (46.700000000000003, 22.66042216358839),\n",
        " (12.5, 22.66042216358839),\n",
        " (15.300000000000001, 22.66042216358839),\n",
        " (22.0, 22.66042216358839),\n",
        " (30.800000000000001, 22.66042216358839),\n",
        " (23.100000000000001, 22.66042216358839),\n",
        " (17.800000000000001, 22.66042216358839),\n",
        " (20.0, 22.66042216358839),\n",
        " (14.1, 22.66042216358839),\n",
        " (22.199999999999999, 22.66042216358839),\n",
        " (20.300000000000001, 22.66042216358839),\n",
        " (35.200000000000003, 22.66042216358839),\n",
        " (21.699999999999999, 22.66042216358839),\n",
        " (20.0, 22.66042216358839),\n",
        " (50.0, 22.66042216358839),\n",
        " (16.800000000000001, 22.66042216358839),\n",
        " (13.4, 22.66042216358839),\n",
        " (19.699999999999999, 22.66042216358839),\n",
        " (11.300000000000001, 22.66042216358839),\n",
        " (17.100000000000001, 22.66042216358839),\n",
        " (14.6, 22.66042216358839),\n",
        " (23.300000000000001, 22.66042216358839),\n",
        " (14.199999999999999, 22.66042216358839),\n",
        " (13.9, 22.66042216358839),\n",
        " (13.0, 22.66042216358839),\n",
        " (14.0, 22.66042216358839),\n",
        " (17.100000000000001, 22.66042216358839),\n",
        " (14.9, 22.66042216358839),\n",
        " (50.0, 22.66042216358839),\n",
        " (50.0, 22.66042216358839),\n",
        " (13.1, 22.66042216358839),\n",
        " (22.600000000000001, 22.66042216358839),\n",
        " (15.0, 22.66042216358839),\n",
        " (23.600000000000001, 22.66042216358839),\n",
        " (23.100000000000001, 22.66042216358839),\n",
        " (24.100000000000001, 22.66042216358839),\n",
        " (5.0, 22.66042216358839),\n",
        " (28.399999999999999, 22.66042216358839),\n",
        " (50.0, 22.66042216358839),\n",
        " (22.5, 22.66042216358839),\n",
        " (17.800000000000001, 22.66042216358839),\n",
        " (15.6, 22.66042216358839),\n",
        " (20.199999999999999, 22.66042216358839),\n",
        " (21.199999999999999, 22.66042216358839),\n",
        " (18.699999999999999, 22.66042216358839),\n",
        " (30.5, 22.66042216358839),\n",
        " (24.399999999999999, 22.66042216358839),\n",
        " (11.9, 22.66042216358839),\n",
        " (27.5, 22.66042216358839),\n",
        " (30.300000000000001, 22.66042216358839),\n",
        " (8.3000000000000007, 22.66042216358839),\n",
        " (22.699999999999999, 22.66042216358839),\n",
        " (24.800000000000001, 22.66042216358839),\n",
        " (25.0, 22.66042216358839),\n",
        " (20.100000000000001, 22.66042216358839),\n",
        " (21.699999999999999, 22.66042216358839),\n",
        " (10.199999999999999, 22.66042216358839)]"
       ]
      }
     ],
     "prompt_number": 72
    },
    {
     "cell_type": "code",
     "collapsed": false,
     "input": [
      "r2_score(y_test, clfA.predict(X_test))"
     ],
     "language": "python",
     "metadata": {},
     "outputs": [
      {
       "metadata": {},
       "output_type": "pyout",
       "prompt_number": 73,
       "text": [
        "0.72795767117117527"
       ]
      }
     ],
     "prompt_number": 73
    },
    {
     "cell_type": "code",
     "collapsed": false,
     "input": [
      "math.sqrt(mean_squared_error(y_test, clfA.predict(X_test)))"
     ],
     "language": "python",
     "metadata": {},
     "outputs": [
      {
       "metadata": {},
       "output_type": "pyout",
       "prompt_number": 74,
       "text": [
        "5.099821833707659"
       ]
      }
     ],
     "prompt_number": 74
    },
    {
     "cell_type": "code",
     "collapsed": false,
     "input": [
      "r2_score(y_test, clfB.predict(X_test))"
     ],
     "language": "python",
     "metadata": {},
     "outputs": [
      {
       "metadata": {},
       "output_type": "pyout",
       "prompt_number": 75,
       "text": [
        "-0.0027041403666030472"
       ]
      }
     ],
     "prompt_number": 75
    },
    {
     "cell_type": "code",
     "collapsed": false,
     "input": [
      "math.sqrt(mean_squared_error(y_test, clfB.predict(X_test)))"
     ],
     "language": "python",
     "metadata": {},
     "outputs": [
      {
       "metadata": {},
       "output_type": "pyout",
       "prompt_number": 76,
       "text": [
        "9.790912425861794"
       ]
      }
     ],
     "prompt_number": 76
    },
    {
     "cell_type": "code",
     "collapsed": false,
     "input": [],
     "language": "python",
     "metadata": {},
     "outputs": [],
     "prompt_number": 76
    }
   ],
   "metadata": {}
  }
 ]
}